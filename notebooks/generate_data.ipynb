{
 "cells": [
  {
   "cell_type": "code",
   "execution_count": null,
   "metadata": {},
   "outputs": [],
   "source": [
    "import pandas as pd\n",
    "import numpy as np"
   ]
  },
  {
   "cell_type": "code",
   "execution_count": null,
   "metadata": {},
   "outputs": [],
   "source": [
    "n = 100\n",
    "# Generate n male superheros with random model predictions\n",
    "male_data = pd.DataFrame(index=range(n), columns=[\"name\",\"gender\",\"prediction probability\"])\n",
    "male_data[\"gender\"] = \"male\"\n",
    "male_data[\"name\"] = [\"name{:d}\".format(i) for i in male_data.index]\n",
    "male_data[\"prediction probability\"] = np.random.rand(n)\n",
    "# Generate n female superheros with random model predictions\n",
    "female_data = pd.DataFrame(index=range(n,n+n), columns=[\"name\",\"gender\",\"prediction probability\"])\n",
    "female_data[\"gender\"] = \"female\"\n",
    "female_data[\"name\"] = [\"name{:d}\".format(i) for i in male_data.index]\n",
    "female_data[\"prediction probability\"] = np.random.rand(n)\n",
    "# Combine in one dataset\n",
    "data = pd.concat([male_data, female_data])"
   ]
  },
  {
   "cell_type": "code",
   "execution_count": null,
   "metadata": {},
   "outputs": [],
   "source": [
    "# Save data as json file\n",
    "data.to_json(\"../src/data/classification.json\", orient=\"records\")"
   ]
  },
  {
   "cell_type": "code",
   "execution_count": null,
   "metadata": {},
   "outputs": [],
   "source": []
  }
 ],
 "metadata": {
  "kernelspec": {
   "display_name": "Python 3",
   "language": "python",
   "name": "python3"
  },
  "language_info": {
   "codemirror_mode": {
    "name": "ipython",
    "version": 3
   },
   "file_extension": ".py",
   "mimetype": "text/x-python",
   "name": "python",
   "nbconvert_exporter": "python",
   "pygments_lexer": "ipython3",
   "version": "3.8.3"
  }
 },
 "nbformat": 4,
 "nbformat_minor": 4
}
